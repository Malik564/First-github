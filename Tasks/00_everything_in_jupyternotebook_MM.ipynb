{
 "cells": [
  {
   "cell_type": "markdown",
   "metadata": {},
   "source": [
    "# Participant\n",
    "\n",
    "Title = 'Student'\n",
    "\n",
    "Name = 'Muhamad Moin'\n",
    "\n",
    "Email = 'MuhammadMoin564@gmail.com'\n",
    "\n",
    "whatsapp = '+923161769633'\n",
    "\n"
   ]
  }
 ],
 "metadata": {
  "language_info": {
   "name": "python"
  },
  "orig_nbformat": 4
 },
 "nbformat": 4,
 "nbformat_minor": 2
}
